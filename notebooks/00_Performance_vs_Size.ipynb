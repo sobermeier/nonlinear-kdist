{
 "cells": [
  {
   "cell_type": "code",
   "execution_count": null,
   "metadata": {},
   "outputs": [],
   "source": [
    "import sys\n",
    "sys.path.append('../src')\n",
    "\n",
    "from matplotlib import pyplot as plt\n",
    "\n",
    "from nlkda.utils import MLFlowClient, flatten_dict\n",
    "from nlkda.data.base import DatasetEnum, get_dataset_size\n",
    "from nlkda.utils import get_skyline\n",
    "from nlkda.models.utils import ModelEnum\n",
    "from nlkda.settings import K_MAX\n",
    "\n",
    "data_root = Path(\"/tmp/data/\")\n",
    "exp = data_root / 'experiments'\n",
    "db = MLFlowClient(root=str(exp), tracking_uri=\"localhost:5000/\")"
   ]
  },
  {
   "cell_type": "code",
   "execution_count": null,
   "metadata": {},
   "outputs": [],
   "source": [
    "def get_additional_size_by_agg_strat(agg_strat, ds):\n",
    "    additional = K_MAX\n",
    "    \n",
    "    if 'point' in agg_strat:\n",
    "        ds_size = get_dataset_size(DatasetEnum(ds))\n",
    "        if 'k' in agg_strat:\n",
    "            additional += 2*ds_size\n",
    "        else: \n",
    "            additional = 2*ds_size\n",
    "    return additional"
   ]
  },
  {
   "cell_type": "code",
   "execution_count": null,
   "metadata": {},
   "outputs": [],
   "source": [
    "# Plot\n",
    "markers = ['o', 'P', 'v', 's', 'D']\n",
    "styles = ['solid', 'dotted', 'dashed', 'dashdot']\n",
    "for index, ds in enumerate(list(map(lambda c: c.value, DatasetEnum))):\n",
    "    # plot cop tree\n",
    "    cop_info = db.unified_get_entries(['params.dataset', 'params.model.model_type'],[True, True],[ds, ModelEnum.COP.value])\n",
    "    if len(cop_info):\n",
    "        cop_size = cop_info['metrics.model_size'][0]\n",
    "        cop_mean = cop_info['metrics.cs_mean'][0]\n",
    "        cop_median = cop_info['metrics.cs_median'][0]\n",
    "        plt.plot(cop_size, cop_mean, color=\"black\", marker=markers[index], zorder=100)\n",
    "    else:\n",
    "        print('No CoP info in mlflow')\n",
    "    \n",
    "    out_dir_string = \"params.out_dir\"\n",
    "\n",
    "    # choose one of 'cs_median_mono', 'cs_mean_mono', 'cs_median_mono_point', 'cs_mean_mono_point'\n",
    "    skyline_col = \"metrics.cs_mean_mono_k_point\"\n",
    "    # get skyline\n",
    "    df = db.unified_get_entries(['params.dataset', 'params.model.model_type'],[True, False],[ds, ModelEnum.COP.value])   \n",
    "    if len(df):\n",
    "        df = df.dropna(subset=[skyline_col])\n",
    "        skyline = get_skyline(df, [\"metrics.model_size\",skyline_col],[True,True])\n",
    "        skyline[\"metrics.model_size\"] = skyline[\"metrics.model_size\"] + get_additional_size_by_agg_strat(skyline_col, ds)\n",
    "\n",
    "        plt.plot(skyline[\"metrics.model_size\"].to_numpy(), skyline[skyline_col].to_numpy(), marker=markers[index], ls=styles[index], label=f'{ds.upper()}', zorder=99)\n",
    "    else:\n",
    "        print(f'No models for dataset {ds}')\n",
    "\n",
    "plt.rcParams['axes.axisbelow'] = True\n",
    "plt.yscale('log')\n",
    "plt.xscale('log')\n",
    "plt.ylabel(f'{skyline_col} [log]')\n",
    "plt.xlabel('Size [log]')\n",
    "plt.grid(which='minor', alpha=0.2)\n",
    "plt.grid(which='major', alpha=1)\n",
    "plt.legend()\n",
    "plt.tight_layout()\n",
    "plt.savefig('model-size-vs-cs.pdf')"
   ]
  },
  {
   "cell_type": "code",
   "execution_count": null,
   "metadata": {},
   "outputs": [],
   "source": []
  }
 ],
 "metadata": {
  "kernelspec": {
   "display_name": "Python 3",
   "language": "python",
   "name": "python3"
  },
  "language_info": {
   "codemirror_mode": {
    "name": "ipython",
    "version": 3
   },
   "file_extension": ".py",
   "mimetype": "text/x-python",
   "name": "python",
   "nbconvert_exporter": "python",
   "pygments_lexer": "ipython3",
   "version": "3.8.5"
  }
 },
 "nbformat": 4,
 "nbformat_minor": 4
}
