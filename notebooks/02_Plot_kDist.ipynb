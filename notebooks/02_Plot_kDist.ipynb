{
 "cells": [
  {
   "cell_type": "code",
   "execution_count": null,
   "metadata": {},
   "outputs": [],
   "source": [
    "from enum import Enum\n",
    "import sys\n",
    "sys.path.append('../src')\n",
    "from pathlib import Path\n",
    "\n",
    "\n",
    "from bokeh.models import ColumnDataSource, ColorBar\n",
    "from bokeh.transform import linear_cmap\n",
    "from bokeh.models import LinearColorMapper\n",
    "from bokeh.palettes import Viridis256 as palette\n",
    "from bokeh.plotting import figure, output_notebook, show\n",
    "import numpy as np\n",
    "import pandas as pd\n",
    "\n",
    "from nlkda.models.utils import ModelEnum\n",
    "from nlkda.utils import MLFlowClient\n",
    "from nlkda.settings import K_MAX\n",
    "from nlkda.data.loader import get_data, DatasetEnum\n",
    "\n",
    "output_notebook()\n",
    "\n",
    "data_root = Path(\"/tmp/data/\")\n",
    "exp = data_root / 'experiments'\n",
    "db = MLFlowClient(root=str(exp), tracking_uri=\"localhost:5000/\")"
   ]
  },
  {
   "cell_type": "code",
   "execution_count": null,
   "metadata": {},
   "outputs": [],
   "source": [
    "def plot_k_dist(\n",
    "    df,\n",
    "    max_val=None,\n",
    "    min_val=None,\n",
    "):\n",
    "    color_mapper = LinearColorMapper(palette=palette)\n",
    "    \n",
    "    if max_val is None:\n",
    "        max_val = max(df['kdist'])\n",
    "    if min_val is None:\n",
    "        min_val = min(df['kdist'])\n",
    "  \n",
    "    mapper = linear_cmap(field_name='kdist', palette=palette, low=min_val, high=max_val)\n",
    "    source = ColumnDataSource(dict(index=df['p_index'],x=df['x'],y=df['y'],kdist=df['kdist']))\n",
    "\n",
    "    p = figure(\n",
    "        x_axis_location=None, \n",
    "        y_axis_location=None,\n",
    "        plot_width=500,\n",
    "        plot_height=500,\n",
    "        tools=\"pan,wheel_zoom,reset,hover,save\"\n",
    "    )\n",
    "\n",
    "    p.grid.grid_line_color = None\n",
    "\n",
    "    p.circle('x', 'y', source=source,\n",
    "              fill_color={'field': 'kdist', 'transform': color_mapper},\n",
    "              fill_alpha=1, line_color=\"white\", line_width=0.1, size=8)\n",
    "\n",
    "    color_bar = ColorBar(color_mapper=mapper['transform'], width=12,  location=(0,0))\n",
    "    p.add_layout(color_bar, 'right')\n",
    "    show(p)"
   ]
  },
  {
   "cell_type": "code",
   "execution_count": null,
   "metadata": {},
   "outputs": [],
   "source": [
    "k = 256\n",
    "ds_enum = DatasetEnum.OL\n",
    "x, y, dist = get_data(ds_enum, data_root / ds_enum.value)\n",
    "\n",
    "df = pd.DataFrame(data=x, columns = ['x', 'y'])\n",
    "df['p_index'] = np.arange(len(df))\n",
    "df['kdist'] = y[:,k-1]\n",
    "\n",
    "plot_k_dist(df)"
   ]
  },
  {
   "cell_type": "code",
   "execution_count": null,
   "metadata": {},
   "outputs": [],
   "source": []
  }
 ],
 "metadata": {
  "kernelspec": {
   "display_name": "Python 3",
   "language": "python",
   "name": "python3"
  },
  "language_info": {
   "codemirror_mode": {
    "name": "ipython",
    "version": 3
   },
   "file_extension": ".py",
   "mimetype": "text/x-python",
   "name": "python",
   "nbconvert_exporter": "python",
   "pygments_lexer": "ipython3",
   "version": "3.8.5"
  }
 },
 "nbformat": 4,
 "nbformat_minor": 4
}
