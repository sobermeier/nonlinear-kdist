{
 "cells": [
  {
   "cell_type": "code",
   "execution_count": null,
   "metadata": {},
   "outputs": [],
   "source": [
    "import os\n",
    "from pathlib import Path\n",
    "import sys\n",
    "sys.path.append('../src')\n",
    "\n",
    "import numpy as np\n",
    "from matplotlib import pyplot as plt\n",
    "\n",
    "from nlkda.data.loader import get_data, DatasetEnum\n",
    "from nlkda.models.base import MonotonicityWrapper\n",
    "from nlkda.models.utils import load_model_from_directory\n",
    "from nlkda.settings import K_MAX"
   ]
  },
  {
   "cell_type": "code",
   "execution_count": null,
   "metadata": {},
   "outputs": [],
   "source": [
    "def plot_bounds(lower, upper, lower_mono, upper_mono, real, i, f_name):\n",
    "    x = np.arange(1, K_MAX+1)\n",
    "    l, = plt.plot(x, lower[i,:], label='original lower', ls=\"dashed\", color=\"deepskyblue\", zorder=99)\n",
    "    u, = plt.plot(x, upper[i,:], label='original upper', ls=\"dashed\", color=\"orange\", zorder=99)\n",
    "    ml, = plt.plot(x, lower_mono[i,:], label='improved lower', color=\"blue\", zorder=99)\n",
    "    mu, = plt.plot(x, upper_mono[i,:], label='improved upper', color=\"red\", zorder=99)\n",
    "    plt.plot(x, real[i,:], label='Real', color=\"black\", zorder=99, ls=\"dotted\",)\n",
    "    \n",
    "    plt.fill_between(x, lower[i,:], lower_mono[i,:], color=l.get_color(), alpha=.4)\n",
    "    plt.fill_between(x, upper[i,:], upper_mono[i,:], color=u.get_color(), alpha=.4)\n",
    "    \n",
    "    plt.xlim(1, K_MAX)\n",
    "    plt.ylim(0, None)\n",
    "    plt.grid(which='minor', alpha=0.4)\n",
    "    plt.grid(which='major', alpha=0.5)\n",
    "    plt.xlabel('k')\n",
    "    plt.ylabel('distance')\n",
    "    plt.legend()\n",
    "    plt.tight_layout()\n",
    "    plt.savefig(f'{f_name}.pdf')"
   ]
  },
  {
   "cell_type": "code",
   "execution_count": null,
   "metadata": {},
   "outputs": [],
   "source": [
    "data_root = Path(\"/tmp/data/\")\n",
    "exp = data_root / 'experiments'\n",
    "\n",
    "ds = \"OL\"\n",
    "run_id = '' # TODO: fill in run_id\n",
    "out_dir = exp / run_id\n",
    "\n",
    "x, y, dist = get_data(DatasetEnum(ds), data_root)\n",
    "\n",
    "# bounds model\n",
    "model = load_model_from_directory(out_dir)\n",
    "pred = np.load(os.path.join(out_dir,'pred_k_dist.npy'))\n",
    "\n",
    "model.set_min_max(pred, y, True, True)\n",
    "lower_p, upper_p = model.predict_bounds(pred, True, True)\n",
    "mono_wrapper = MonotonicityWrapper(base=model)\n",
    "mono_lower_p, mono_upper_p = mono_wrapper.predict_bounds(pred, True, True)  \n",
    "\n",
    "model.set_min_max(pred, y, True, False)\n",
    "lower_k, upper_k = model.predict_bounds(pred, True, False)\n",
    "mono_wrapper_p = MonotonicityWrapper(base=model)\n",
    "mono_lower_k, mono_upper_k = mono_wrapper_p.predict_bounds(pred, True, False)\n",
    "\n",
    "# get best lower and best upper\n",
    "lower_p_k = np.maximum(mono_lower_k, mono_lower_p)\n",
    "upper_p_k = np.minimum(mono_upper_k, mono_upper_p)"
   ]
  },
  {
   "cell_type": "code",
   "execution_count": null,
   "metadata": {},
   "outputs": [],
   "source": [
    "plot_bounds(\n",
    "    lower=lower_k, \n",
    "    upper=upper_k, \n",
    "    lower_mono=mono_lower_k, \n",
    "    upper_mono=mono_upper_k, \n",
    "    real=y, \n",
    "    i=0, \n",
    "    f_name='improve_k'\n",
    ")"
   ]
  },
  {
   "cell_type": "code",
   "execution_count": null,
   "metadata": {},
   "outputs": [],
   "source": []
  }
 ],
 "metadata": {
  "kernelspec": {
   "display_name": "Python 3",
   "language": "python",
   "name": "python3"
  },
  "language_info": {
   "codemirror_mode": {
    "name": "ipython",
    "version": 3
   },
   "file_extension": ".py",
   "mimetype": "text/x-python",
   "name": "python",
   "nbconvert_exporter": "python",
   "pygments_lexer": "ipython3",
   "version": "3.8.5"
  }
 },
 "nbformat": 4,
 "nbformat_minor": 4
}
